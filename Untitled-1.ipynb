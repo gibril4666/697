{
 "cells": [
  {
   "cell_type": "code",
   "execution_count": null,
   "source": [],
   "outputs": [],
   "metadata": {}
  },
  {
   "cell_type": "code",
   "execution_count": 5,
   "source": [
    "import pdf_download_script"
   ],
   "outputs": [],
   "metadata": {}
  },
  {
   "cell_type": "code",
   "execution_count": 6,
   "source": [
    "import sys\n",
    "import pandas as pd\n",
    "import re\n",
    "import os\n",
    "import openpyxl\n",
    "from xlsx2html import xlsx2html\n",
    "import xlrd\n",
    "import xlwings as xw\n",
    "import html2text\n",
    "import io\n",
    "from xlsx2html import xlsx2html\n",
    "import urllib.request"
   ],
   "outputs": [],
   "metadata": {}
  },
  {
   "cell_type": "code",
   "execution_count": 22,
   "source": [
    "path_to_store_converted_excel = '/Users/narainyucel/Google Drive/MADS/capstone/697'\n"
   ],
   "outputs": [],
   "metadata": {}
  },
  {
   "cell_type": "code",
   "execution_count": 7,
   "source": [
    "app = xw.App(visible=False)\n",
    "wb = app.books.open('DTMB_PRO-Contract-List.xls')\n",
    "for sheet in wb.sheets:\n",
    "    wb_new = app.books.add()\n",
    "    sheet.copy(after=wb_new.sheets[0])\n",
    "    wb_new.sheets[0].delete()\n",
    "    if not os.path.isfile(path_to_store_converted_excel + f'/{sheet.name}.xlsx'):\n",
    "        wb_new.save(path_to_store_converted_excel + f'/{sheet.name}.xlsx')\n",
    "    wb_new.close()"
   ],
   "outputs": [],
   "metadata": {}
  },
  {
   "cell_type": "code",
   "execution_count": 6,
   "source": [
    "pdf_download_script.download_pdfs(10, 'DTMB_PRO-Contract-List.xls', 'test-data', 'Updated 07-14-2022',\n",
    "'test-data')"
   ],
   "outputs": [
    {
     "output_type": "stream",
     "name": "stdout",
     "text": [
      "1\n",
      "2\n",
      "3\n",
      "4\n",
      "5\n",
      "6\n"
     ]
    }
   ],
   "metadata": {}
  },
  {
   "cell_type": "code",
   "execution_count": null,
   "source": [],
   "outputs": [],
   "metadata": {}
  }
 ],
 "metadata": {
  "orig_nbformat": 4,
  "language_info": {
   "name": "python",
   "version": "3.8.13",
   "mimetype": "text/x-python",
   "codemirror_mode": {
    "name": "ipython",
    "version": 3
   },
   "pygments_lexer": "ipython3",
   "nbconvert_exporter": "python",
   "file_extension": ".py"
  },
  "kernelspec": {
   "name": "python3",
   "display_name": "Python 3.8.13 64-bit ('base': conda)"
  },
  "interpreter": {
   "hash": "5b0e7be90a4a7c1a8aa0bc557e65693b87cf96cc2dcaea1d5cb62138bd238e79"
  }
 },
 "nbformat": 4,
 "nbformat_minor": 2
}